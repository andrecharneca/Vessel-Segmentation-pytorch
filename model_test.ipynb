{
 "cells": [
  {
   "cell_type": "code",
   "execution_count": 2,
   "metadata": {},
   "outputs": [],
   "source": [
    "import math\n",
    "import numpy as np\n",
    "import torch\n",
    "import pkbar\n",
    "from unet3d.config import *\n",
    "from tqdm import tqdm\n",
    "from torch.nn import CrossEntropyLoss\n",
    "from torch.nn.functional import one_hot\n",
    "from torch.optim import Adam\n",
    "#from torch.utils.tensorboard import SummaryWriter\n",
    "from unet3d.unet3d import UNet3D\n",
    "from patchify import patchify\n",
    "import nrrd\n",
    "\n",
    "%load_ext autoreload\n",
    "%autoreload 2\n",
    "%matplotlib inline"
   ]
  },
  {
   "cell_type": "code",
   "execution_count": 3,
   "metadata": {},
   "outputs": [],
   "source": [
    "#writer = SummaryWriter(\"runs\")\n",
    "device = torch.device('cpu')\n",
    "model = UNet3D(in_channels=IN_CHANNELS , num_classes= NUM_CLASSES).to(device)\n",
    "criterion = CrossEntropyLoss(weight=torch.Tensor(np.array(CE_WEIGHTS)/np.array(CE_WEIGHTS).sum()))\n",
    "optimizer = Adam(params=model.parameters())\n",
    "\n",
    "min_valid_loss = math.inf"
   ]
  },
  {
   "cell_type": "code",
   "execution_count": 4,
   "metadata": {},
   "outputs": [
    {
     "name": "stdout",
     "output_type": "stream",
     "text": [
      "[torch.Size([128, 1, 64, 64, 64]), torch.float64]\n",
      "[torch.Size([128, 5, 64, 64, 64]), torch.float64]\n"
     ]
    }
   ],
   "source": [
    "# Load some data\n",
    "scan, _ = nrrd.read(DATASET_PATH + '/SAIAD 1/scan.nrrd')\n",
    "segm, _ = nrrd.read(DATASET_PATH + '/SAIAD 1/segm.nrrd')\n",
    "\n",
    "scan_patches = patchify(scan, PATCH_SIZE, step=PATCH_SIZE).reshape(-1,64,64,64)\n",
    "scan_patches = torch.tensor(scan_patches).double()\n",
    "scan_patches = torch.unsqueeze(scan_patches,1) # add channel dimension\n",
    "segm_patches = patchify(segm, PATCH_SIZE, step=PATCH_SIZE).reshape(-1,64,64,64)\n",
    "segm_patches = one_hot(torch.tensor(segm_patches).to(torch.int64), num_classes=NUM_CLASSES).permute(0,4,1,2,3).double()\n",
    "\n",
    "\n",
    "print([scan_patches.shape, scan_patches.dtype])\n",
    "print([segm_patches.shape, segm_patches.dtype])\n"
   ]
  },
  {
   "cell_type": "code",
   "execution_count": 5,
   "metadata": {},
   "outputs": [
    {
     "name": "stdout",
     "output_type": "stream",
     "text": [
      "Epoch: 1/100\n",
      " 79/120 [====>...] - ETA: 5:47 - loss: 0.1730"
     ]
    },
    {
     "ename": "NameError",
     "evalue": "name 'writer' is not defined",
     "output_type": "error",
     "traceback": [
      "\u001b[0;31m---------------------------------------------------------------------------\u001b[0m",
      "\u001b[0;31mNameError\u001b[0m                                 Traceback (most recent call last)",
      "\u001b[1;32m/Users/charneca/Documents/CSE EPFL/Semester Project 1/SAIAD-project/pytorch/model_test.ipynb Cell 4\u001b[0m in \u001b[0;36m<cell line: 4>\u001b[0;34m()\u001b[0m\n\u001b[1;32m     <a href='vscode-notebook-cell:/Users/charneca/Documents/CSE%20EPFL/Semester%20Project%201/SAIAD-project/pytorch/model_test.ipynb#W3sZmlsZQ%3D%3D?line=25'>26</a>\u001b[0m     loss \u001b[39m=\u001b[39m criterion(target,ground_truth)\n\u001b[1;32m     <a href='vscode-notebook-cell:/Users/charneca/Documents/CSE%20EPFL/Semester%20Project%201/SAIAD-project/pytorch/model_test.ipynb#W3sZmlsZQ%3D%3D?line=26'>27</a>\u001b[0m     valid_loss \u001b[39m=\u001b[39m loss\u001b[39m.\u001b[39mitem()\n\u001b[0;32m---> <a href='vscode-notebook-cell:/Users/charneca/Documents/CSE%20EPFL/Semester%20Project%201/SAIAD-project/pytorch/model_test.ipynb#W3sZmlsZQ%3D%3D?line=28'>29</a>\u001b[0m writer\u001b[39m.\u001b[39madd_scalar(\u001b[39m\"\u001b[39m\u001b[39mLoss/Train\u001b[39m\u001b[39m\"\u001b[39m, train_loss \u001b[39m/\u001b[39m \u001b[39m120\u001b[39m, epoch)\n\u001b[1;32m     <a href='vscode-notebook-cell:/Users/charneca/Documents/CSE%20EPFL/Semester%20Project%201/SAIAD-project/pytorch/model_test.ipynb#W3sZmlsZQ%3D%3D?line=29'>30</a>\u001b[0m writer\u001b[39m.\u001b[39madd_scalar(\u001b[39m\"\u001b[39m\u001b[39mLoss/Validation\u001b[39m\u001b[39m\"\u001b[39m, valid_loss \u001b[39m/\u001b[39m \u001b[39m8\u001b[39m, epoch)\n\u001b[1;32m     <a href='vscode-notebook-cell:/Users/charneca/Documents/CSE%20EPFL/Semester%20Project%201/SAIAD-project/pytorch/model_test.ipynb#W3sZmlsZQ%3D%3D?line=31'>32</a>\u001b[0m \u001b[39mprint\u001b[39m(\u001b[39mf\u001b[39m\u001b[39m'\u001b[39m\u001b[39mEpoch \u001b[39m\u001b[39m{\u001b[39;00mepoch\u001b[39m+\u001b[39m\u001b[39m1\u001b[39m\u001b[39m}\u001b[39;00m\u001b[39m \u001b[39m\u001b[39m\\t\u001b[39;00m\u001b[39m\\t\u001b[39;00m\u001b[39m Training Loss: \u001b[39m\u001b[39m{\u001b[39;00mtrain_loss \u001b[39m/\u001b[39m \u001b[39m8\u001b[39m\u001b[39m}\u001b[39;00m\u001b[39m \u001b[39m\u001b[39m\\t\u001b[39;00m\u001b[39m\\t\u001b[39;00m\u001b[39m Validation Loss: \u001b[39m\u001b[39m{\u001b[39;00mvalid_loss \u001b[39m/\u001b[39m \u001b[39m8\u001b[39m\u001b[39m}\u001b[39;00m\u001b[39m'\u001b[39m)\n",
      "\u001b[0;31mNameError\u001b[0m: name 'writer' is not defined"
     ]
    }
   ],
   "source": [
    "# Training\n",
    "model = model.double() # Convert all params to double\n",
    "\n",
    "for epoch in range(TRAINING_EPOCH):\n",
    "    # progress bar\n",
    "    kbar = pkbar.Kbar(target=120, epoch=epoch, num_epochs=TRAINING_EPOCH, width=8, always_stateful=False)\n",
    "\n",
    "    train_loss = 0.0\n",
    "    model.train()\n",
    "    for i in range(50,80):\n",
    "        image, ground_truth = scan_patches[i:i+TRAIN_BATCH_SIZE], segm_patches[i:i+TRAIN_BATCH_SIZE]\n",
    "        optimizer.zero_grad()\n",
    "        target = model(image)\n",
    "        loss = criterion(target, ground_truth)\n",
    "        loss.backward()\n",
    "        optimizer.step()\n",
    "        train_loss += loss.item()\n",
    "        kbar.update(i, values=[(\"loss\", train_loss)])\n",
    "    \n",
    "    valid_loss = 0.0\n",
    "    model.eval()\n",
    "    for i in range(120,128):\n",
    "        image, ground_truth = scan_patches[i:i+TRAIN_BATCH_SIZE], segm_patches[i:i+TRAIN_BATCH_SIZE]\n",
    "        \n",
    "        target = model(image)\n",
    "        loss = criterion(target,ground_truth)\n",
    "        valid_loss = loss.item()\n",
    "        \n",
    "    #writer.add_scalar(\"Loss/Train\", train_loss / 120, epoch)\n",
    "    #writer.add_scalar(\"Loss/Validation\", valid_loss / 8, epoch)\n",
    "    \n",
    "    print(f'Epoch {epoch+1} \\t\\t Training Loss: {train_loss / 8} \\t\\t Validation Loss: {valid_loss / 8}')\n",
    "    \n",
    "    if min_valid_loss > valid_loss:\n",
    "        print(f'Validation Loss Decreased({min_valid_loss:.6f}--->{valid_loss:.6f}) \\t Saving The Model')\n",
    "        min_valid_loss = valid_loss\n",
    "        # Saving State Dict\n",
    "        torch.save(model.state_dict(), f'checkpoints/epoch{epoch}_valLoss{min_valid_loss}.pth')\n"
   ]
  },
  {
   "cell_type": "code",
   "execution_count": null,
   "metadata": {},
   "outputs": [],
   "source": [
    "pred = model(scan_patches[58:59])"
   ]
  },
  {
   "cell_type": "code",
   "execution_count": null,
   "metadata": {},
   "outputs": [],
   "source": [
    "pred.size()"
   ]
  },
  {
   "cell_type": "code",
   "execution_count": null,
   "metadata": {},
   "outputs": [],
   "source": [
    "sys.path.insert(1, '../Helpers')\n",
    "from Visualization import ImageSliceViewer3D\n",
    "pred_index = np.array(torch.argmax(pred[0], dim=0))\n",
    "ImageSliceViewer3D(pred_index, np.array(scan_patches[58:59][0,0]))"
   ]
  },
  {
   "cell_type": "code",
   "execution_count": null,
   "metadata": {},
   "outputs": [],
   "source": [
    "np.max(pred)"
   ]
  },
  {
   "cell_type": "code",
   "execution_count": null,
   "metadata": {},
   "outputs": [],
   "source": [
    "ImageSliceViewer3D(np.array(scan_patches[58:59][0,0]))"
   ]
  },
  {
   "cell_type": "code",
   "execution_count": null,
   "metadata": {},
   "outputs": [],
   "source": []
  }
 ],
 "metadata": {
  "kernelspec": {
   "display_name": "Python 3.8.13 ('saiad-pytorch')",
   "language": "python",
   "name": "python3"
  },
  "language_info": {
   "codemirror_mode": {
    "name": "ipython",
    "version": 3
   },
   "file_extension": ".py",
   "mimetype": "text/x-python",
   "name": "python",
   "nbconvert_exporter": "python",
   "pygments_lexer": "ipython3",
   "version": "3.8.13"
  },
  "orig_nbformat": 4,
  "vscode": {
   "interpreter": {
    "hash": "32aad0a8508bff835c20a8d47234734688fb62c0cbdf7488c1eae1822cd413fe"
   }
  }
 },
 "nbformat": 4,
 "nbformat_minor": 2
}
