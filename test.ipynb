{
 "cells": [
  {
   "cell_type": "code",
   "execution_count": 3,
   "id": "b50ad5fb-056c-498a-8e7d-be00a431def8",
   "metadata": {},
   "outputs": [
    {
     "name": "stdout",
     "output_type": "stream",
     "text": [
      "/Work/Users/acharneca/Vessel-Segmentation-pytorch/checkpoints/saiad1and18tervasc_27sep_epoch249.pth\n"
     ]
    }
   ],
   "source": [
    "import math\n",
    "import numpy as np\n",
    "import torch\n",
    "import pkbar\n",
    "import sys\n",
    "from tqdm import tqdm\n",
    "from torchsummary import summary\n",
    "from torch.nn.functional import one_hot\n",
    "from unet3d.config import *\n",
    "from unet3d.tester import Tester\n",
    "from unet3d.dice import dice_coef_torch_multiclass\n",
    "from unet3d.transforms import *\n",
    "from unet3d.unet3d_vgg16 import UNet3D_VGG16\n",
    "from unet3d.transforms import val_transform\n",
    "from utils.Visualization import ImageSliceViewer3D\n",
    "import nrrd\n",
    "import os \n",
    "\n",
    "%load_ext autoreload\n",
    "%autoreload 2\n",
    "%matplotlib inline\n",
    "\n",
    "torch.manual_seed(0)\n",
    "torch.backends.cudnn.benchmark = True # Speeds up stuff\n",
    "torch.backends.cudnn.enabled = True\n",
    "device = torch.device('cuda')\n",
    "\n",
    "model_path = 'checkpoints/saiad1and18tervasc_27sep_epoch249.pth'\n",
    "model_path = os.path.realpath(model_path)\n",
    "print(model_path)"
   ]
  },
  {
   "cell_type": "code",
   "execution_count": 2,
   "id": "687bc0af-104d-48ce-8900-c89281409e80",
   "metadata": {},
   "outputs": [
    {
     "name": "stdout",
     "output_type": "stream",
     "text": [
      "Patchifying scan...\n",
      "Predicting on patches...\n"
     ]
    },
    {
     "name": "stderr",
     "output_type": "stream",
     "text": [
      "100%|████████████████████████████████████████████████████████████████████████████| 10/10 [01:04<00:00,  6.42s/it]\n"
     ]
    },
    {
     "name": "stdout",
     "output_type": "stream",
     "text": [
      "Unpatchifying...\n",
      "Prediction done.\n",
      "Dice vals:  tensor([0.9841, 0.9390, 0.0940, 0.2647, 0.7874])\n"
     ]
    }
   ],
   "source": [
    "## Test (assuming we have the truth segmentations)###\n",
    "tester = Tester(\n",
    "    model_path, \n",
    "    test_patient = 'SAIAD 13'\n",
    "    )\n",
    "\n",
    "# Predict from uniform spacing scan\n",
    "temp = tester.predict(with_transforms = True, verbose=1) ### remove temp\n",
    "\n",
    "## Post Processing ##\n",
    "tester.apply_gaussian_blur(sigma=2, truncate=2);tester.clean_connected_components()\n",
    "\n",
    "\n",
    "# Save uniform spacing prediction to folder\n",
    "tester.save_uniform_spacing_segm()\n",
    "\n",
    "# Resample to the original spacing of the scan and save\n",
    "tester.resample_to_original_and_save()\n",
    "\n",
    "dice_vals = tester.compute_dice()\n",
    "print(\"Dice vals: \", dice_vals)\n",
    "\n"
   ]
  },
  {
   "cell_type": "code",
   "execution_count": 3,
   "id": "b836b372-8f7f-46b1-9158-55107cf4bd38",
   "metadata": {},
   "outputs": [
    {
     "data": {
      "application/vnd.jupyter.widget-view+json": {
       "model_id": "861f2e9e77f546798fc52b4a21b94172",
       "version_major": 2,
       "version_minor": 0
      },
      "text/plain": [
       "interactive(children=(RadioButtons(description='Slice plane selection:', options=('x-y', 'y-z', 'z-x'), style=…"
      ]
     },
     "metadata": {},
     "output_type": "display_data"
    }
   ],
   "source": [
    "tester.show_scan_vs_pred()"
   ]
  },
  {
   "cell_type": "code",
   "execution_count": 4,
   "id": "965d0f56-9b48-44e7-a71b-d553fc398b14",
   "metadata": {},
   "outputs": [
    {
     "name": "stdout",
     "output_type": "stream",
     "text": [
      "(96, 96, 96)\n",
      "(96, 96, 96)\n"
     ]
    },
    {
     "data": {
      "application/vnd.jupyter.widget-view+json": {
       "model_id": "0966003bfd084554b373d1639af16b17",
       "version_major": 2,
       "version_minor": 0
      },
      "text/plain": [
       "interactive(children=(RadioButtons(description='Slice plane selection:', options=('x-y', 'y-z', 'z-x'), style=…"
      ]
     },
     "metadata": {},
     "output_type": "display_data"
    },
    {
     "data": {
      "text/plain": [
       "<utils.Visualization.ImageSliceViewer3D at 0x1531b6d80fd0>"
      ]
     },
     "execution_count": 4,
     "metadata": {},
     "output_type": "execute_result"
    }
   ],
   "source": [
    "vol = temp['single_patch_predictions'].cpu().detach().numpy()[0,2]#[5,5,1,:,:,:,0]\n",
    "input_ = temp['patch_input'].cpu().detach().numpy()[0,0]\n",
    "print(vol.shape)\n",
    "print(input_.shape)\n",
    "ImageSliceViewer3D(input_, vol)"
   ]
  },
  {
   "cell_type": "code",
   "execution_count": 6,
   "id": "96714a4f-f4b0-42dc-831d-4410a4d908c5",
   "metadata": {},
   "outputs": [],
   "source": [
    "## Inference (assuming no truth segm is available) ##\n",
    "tester = Tester(\n",
    "    model_path, \n",
    "    test_patient = 'SAIAD 5 test'\n",
    "    )"
   ]
  },
  {
   "cell_type": "code",
   "execution_count": 7,
   "id": "419135e9-7fb8-4f76-a35c-cbb82ae56eb8",
   "metadata": {},
   "outputs": [
    {
     "name": "stdout",
     "output_type": "stream",
     "text": [
      "No truth segmentation found: Inference mode enabled\n"
     ]
    },
    {
     "ename": "FileNotFoundError",
     "evalue": "[Errno 2] No such file or directory: '../SAIAD-project/Data/SAIAD_data_cleared/SAIAD 5 test/scan.nrrd'",
     "output_type": "error",
     "traceback": [
      "\u001b[0;31m---------------------------------------------------------------------------\u001b[0m",
      "\u001b[0;31mFileNotFoundError\u001b[0m                         Traceback (most recent call last)",
      "Input \u001b[0;32mIn [7]\u001b[0m, in \u001b[0;36m<cell line: 1>\u001b[0;34m()\u001b[0m\n\u001b[0;32m----> 1\u001b[0m \u001b[43mtester\u001b[49m\u001b[38;5;241;43m.\u001b[39;49m\u001b[43mread_test_patient_data_and_pad\u001b[49m\u001b[43m(\u001b[49m\u001b[43m)\u001b[49m\n",
      "File \u001b[0;32m~/Vessel-Segmentation-pytorch/unet3d/tester.py:124\u001b[0m, in \u001b[0;36mread_test_patient_data_and_pad\u001b[0;34m(self)\u001b[0m\n\u001b[1;32m    122\u001b[0m self.truth_segm = truth_segm\n\u001b[1;32m    123\u001b[0m \n\u001b[0;32m--> 124\u001b[0m _,header = nrrd.read(self.original_data_folder + self.test_patient +'/segm.nrrd')\n\u001b[1;32m    125\u001b[0m self.original_spacing = np.diagonal(header['space directions'])\n\u001b[1;32m    126\u001b[0m \n",
      "File \u001b[0;32m~/.conda/envs/saiad-pytorch/lib/python3.8/site-packages/nrrd/reader.py:506\u001b[0m, in \u001b[0;36mread\u001b[0;34m(filename, custom_field_map, index_order)\u001b[0m\n\u001b[1;32m    474\u001b[0m \u001b[38;5;124;03m\"\"\"Read a NRRD file and return the header and data\u001b[39;00m\n\u001b[1;32m    475\u001b[0m \n\u001b[1;32m    476\u001b[0m \u001b[38;5;124;03mSee :ref:`user-guide:Reading NRRD files` for more information on reading NRRD files.\u001b[39;00m\n\u001b[0;32m   (...)\u001b[0m\n\u001b[1;32m    502\u001b[0m \u001b[38;5;124;03m:meth:`write`, :meth:`read_header`, :meth:`read_data`\u001b[39;00m\n\u001b[1;32m    503\u001b[0m \u001b[38;5;124;03m\"\"\"\u001b[39;00m\n\u001b[1;32m    505\u001b[0m \u001b[38;5;124;03m\"\"\"Read a NRRD file and return a tuple (data, header).\"\"\"\u001b[39;00m\n\u001b[0;32m--> 506\u001b[0m \u001b[38;5;28;01mwith\u001b[39;00m \u001b[38;5;28;43mopen\u001b[39;49m\u001b[43m(\u001b[49m\u001b[43mfilename\u001b[49m\u001b[43m,\u001b[49m\u001b[43m \u001b[49m\u001b[38;5;124;43m'\u001b[39;49m\u001b[38;5;124;43mrb\u001b[39;49m\u001b[38;5;124;43m'\u001b[39;49m\u001b[43m)\u001b[49m \u001b[38;5;28;01mas\u001b[39;00m fh:\n\u001b[1;32m    507\u001b[0m     header \u001b[38;5;241m=\u001b[39m read_header(fh, custom_field_map)\n\u001b[1;32m    508\u001b[0m     data \u001b[38;5;241m=\u001b[39m read_data(header, fh, filename, index_order)\n",
      "\u001b[0;31mFileNotFoundError\u001b[0m: [Errno 2] No such file or directory: '../SAIAD-project/Data/SAIAD_data_cleared/SAIAD 5 test/scan.nrrd'"
     ]
    }
   ],
   "source": [
    "tester.read_test_patient_data_and_pad()"
   ]
  },
  {
   "cell_type": "code",
   "execution_count": null,
   "id": "4afcd70d-cc5a-45fa-accc-f39054155fe0",
   "metadata": {},
   "outputs": [],
   "source": [
    "print(tester.mode)"
   ]
  },
  {
   "cell_type": "code",
   "execution_count": null,
   "id": "ff33999f-265e-4a15-b36f-896b368b39c1",
   "metadata": {},
   "outputs": [],
   "source": []
  }
 ],
 "metadata": {
  "kernelspec": {
   "display_name": "Python 3.9.6 64-bit",
   "language": "python",
   "name": "python3"
  },
  "language_info": {
   "codemirror_mode": {
    "name": "ipython",
    "version": 3
   },
   "file_extension": ".py",
   "mimetype": "text/x-python",
   "name": "python",
   "nbconvert_exporter": "python",
   "pygments_lexer": "ipython3",
   "version": "3.9.6"
  },
  "vscode": {
   "interpreter": {
    "hash": "31f2aee4e71d21fbe5cf8b01ff0e069b9275f58929596ceb00d14d90e3e16cd6"
   }
  }
 },
 "nbformat": 4,
 "nbformat_minor": 5
}
