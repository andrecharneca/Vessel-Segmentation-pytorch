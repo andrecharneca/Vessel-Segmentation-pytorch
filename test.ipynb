{
 "cells": [
  {
   "cell_type": "code",
   "execution_count": 2,
   "id": "b50ad5fb-056c-498a-8e7d-be00a431def8",
   "metadata": {},
   "outputs": [
    {
     "name": "stdout",
     "output_type": "stream",
     "text": [
      "/Work/Users/acharneca/Vessel-Segmentation-pytorch/checkpoints/saiad1and18tervasc_27sep_epoch249.pth\n"
     ]
    }
   ],
   "source": [
    "import math\n",
    "import numpy as np\n",
    "import torch\n",
    "import pkbar\n",
    "import sys\n",
    "from tqdm import tqdm\n",
    "from torchsummary import summary\n",
    "from torch.nn.functional import one_hot\n",
    "from unet3d.config import *\n",
    "from unet3d.tester import Tester\n",
    "from unet3d.dice import dice_coef_torch_multiclass\n",
    "from unet3d.transforms import *\n",
    "from unet3d.unet3d_vgg16 import UNet3D_VGG16\n",
    "from unet3d.transforms import val_transform\n",
    "from utils.Visualization import ImageSliceViewer3D\n",
    "import nrrd\n",
    "import os \n",
    "\n",
    "%load_ext autoreload\n",
    "%autoreload 2\n",
    "%matplotlib inline\n",
    "\n",
    "torch.manual_seed(0)\n",
    "torch.backends.cudnn.benchmark = True # Speeds up stuff\n",
    "torch.backends.cudnn.enabled = True\n",
    "device = torch.device('cuda')\n",
    "\n",
    "model_path = 'checkpoints/saiad1and18tervasc_27sep_epoch249.pth'\n",
    "model_path = os.path.realpath(model_path)\n",
    "print(model_path)"
   ]
  },
  {
   "cell_type": "code",
   "execution_count": 2,
   "id": "687bc0af-104d-48ce-8900-c89281409e80",
   "metadata": {},
   "outputs": [
    {
     "name": "stdout",
     "output_type": "stream",
     "text": [
      "Patchifying scan...\n",
      "Predicting on patches...\n"
     ]
    },
    {
     "name": "stderr",
     "output_type": "stream",
     "text": [
      "100%|████████████████████████████████████████████████████████████████████████████| 10/10 [01:04<00:00,  6.42s/it]\n"
     ]
    },
    {
     "name": "stdout",
     "output_type": "stream",
     "text": [
      "Unpatchifying...\n",
      "Prediction done.\n",
      "Dice vals:  tensor([0.9841, 0.9390, 0.0940, 0.2647, 0.7874])\n"
     ]
    }
   ],
   "source": [
    "## Test (assuming we have the truth segmentations)###\n",
    "tester = Tester(\n",
    "    model_path, \n",
    "    test_patient = 'SAIAD 13'\n",
    "    )\n",
    "\n",
    "# Predict from uniform spacing scan\n",
    "temp = tester.predict(with_transforms = True, verbose=1) ### remove temp\n",
    "\n",
    "## Post Processing ##\n",
    "tester.apply_gaussian_blur(sigma=2, truncate=2);tester.clean_connected_components()\n",
    "\n",
    "\n",
    "# Save uniform spacing prediction to folder\n",
    "tester.save_uniform_spacing_segm()\n",
    "\n",
    "# Resample to the original spacing of the scan and save\n",
    "tester.resample_to_original_and_save()\n",
    "\n",
    "dice_vals = tester.compute_dice()\n",
    "print(\"Dice vals: \", dice_vals)\n",
    "\n"
   ]
  },
  {
   "cell_type": "code",
   "execution_count": 3,
   "id": "b836b372-8f7f-46b1-9158-55107cf4bd38",
   "metadata": {},
   "outputs": [
    {
     "data": {
      "application/vnd.jupyter.widget-view+json": {
       "model_id": "861f2e9e77f546798fc52b4a21b94172",
       "version_major": 2,
       "version_minor": 0
      },
      "text/plain": [
       "interactive(children=(RadioButtons(description='Slice plane selection:', options=('x-y', 'y-z', 'z-x'), style=…"
      ]
     },
     "metadata": {},
     "output_type": "display_data"
    }
   ],
   "source": [
    "tester.show_scan_vs_pred()"
   ]
  },
  {
   "cell_type": "code",
   "execution_count": 4,
   "id": "965d0f56-9b48-44e7-a71b-d553fc398b14",
   "metadata": {},
   "outputs": [
    {
     "name": "stdout",
     "output_type": "stream",
     "text": [
      "(96, 96, 96)\n",
      "(96, 96, 96)\n"
     ]
    },
    {
     "data": {
      "application/vnd.jupyter.widget-view+json": {
       "model_id": "0966003bfd084554b373d1639af16b17",
       "version_major": 2,
       "version_minor": 0
      },
      "text/plain": [
       "interactive(children=(RadioButtons(description='Slice plane selection:', options=('x-y', 'y-z', 'z-x'), style=…"
      ]
     },
     "metadata": {},
     "output_type": "display_data"
    },
    {
     "data": {
      "text/plain": [
       "<utils.Visualization.ImageSliceViewer3D at 0x1531b6d80fd0>"
      ]
     },
     "execution_count": 4,
     "metadata": {},
     "output_type": "execute_result"
    }
   ],
   "source": [
    "vol = temp['single_patch_predictions'].cpu().detach().numpy()[0,2]#[5,5,1,:,:,:,0]\n",
    "input_ = temp['patch_input'].cpu().detach().numpy()[0,0]\n",
    "print(vol.shape)\n",
    "print(input_.shape)\n",
    "ImageSliceViewer3D(input_, vol)"
   ]
  },
  {
   "cell_type": "code",
   "execution_count": 3,
   "id": "96714a4f-f4b0-42dc-831d-4410a4d908c5",
   "metadata": {},
   "outputs": [
    {
     "name": "stdout",
     "output_type": "stream",
     "text": [
      "No truth segmentation found: Inference mode enabled\n",
      "Patchifying scan...\n",
      "Predicting on patches...\n"
     ]
    },
    {
     "name": "stderr",
     "output_type": "stream",
     "text": [
      "100%|████████████████████████████████████████████████████████████████████████████| 10/10 [01:29<00:00,  8.94s/it]\n"
     ]
    },
    {
     "name": "stdout",
     "output_type": "stream",
     "text": [
      "Unpatchifying...\n",
      "Prediction done.\n"
     ]
    }
   ],
   "source": [
    "## Inference (assuming no truth segm is available) ##\n",
    "tester = Tester(\n",
    "    model_path, \n",
    "    test_patient = 'SAIAD 5 test'\n",
    "    )\n",
    "\n",
    "# Predict from uniform spacing scan\n",
    "temp = tester.predict(with_transforms = True, verbose=1) ### remove temp\n",
    "\n",
    "## Post Processing ##\n",
    "tester.apply_gaussian_blur(sigma=2, truncate=2);tester.clean_connected_components()\n",
    "\n",
    "# Save uniform spacing prediction to folder\n",
    "tester.save_uniform_spacing_segm()\n",
    "\n",
    "# Resample to the original spacing of the scan and save\n",
    "tester.resample_to_original_and_save()\n"
   ]
  },
  {
   "cell_type": "code",
   "execution_count": 4,
   "id": "ff33999f-265e-4a15-b36f-896b368b39c1",
   "metadata": {},
   "outputs": [
    {
     "data": {
      "application/vnd.jupyter.widget-view+json": {
       "model_id": "107a1dcbc68d4fd285a02f294121c25b",
       "version_major": 2,
       "version_minor": 0
      },
      "text/plain": [
       "interactive(children=(RadioButtons(description='Slice plane selection:', options=('x-y', 'y-z', 'z-x'), style=…"
      ]
     },
     "metadata": {},
     "output_type": "display_data"
    }
   ],
   "source": [
    "tester.show_scan_vs_pred()"
   ]
  },
  {
   "cell_type": "code",
   "execution_count": null,
   "id": "3c88a051-091d-4eaf-bd64-75aa7c507622",
   "metadata": {},
   "outputs": [],
   "source": []
  }
 ],
 "metadata": {
  "kernelspec": {
   "display_name": "Python 3 (ipykernel)",
   "language": "python",
   "name": "python3"
  },
  "language_info": {
   "codemirror_mode": {
    "name": "ipython",
    "version": 3
   },
   "file_extension": ".py",
   "mimetype": "text/x-python",
   "name": "python",
   "nbconvert_exporter": "python",
   "pygments_lexer": "ipython3",
   "version": "3.8.13"
  },
  "vscode": {
   "interpreter": {
    "hash": "31f2aee4e71d21fbe5cf8b01ff0e069b9275f58929596ceb00d14d90e3e16cd6"
   }
  }
 },
 "nbformat": 4,
 "nbformat_minor": 5
}
