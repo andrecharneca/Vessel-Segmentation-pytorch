{
 "cells": [
  {
   "cell_type": "markdown",
   "id": "cd52572c-55fe-49f3-a683-174e8c7ebd49",
   "metadata": {},
   "source": [
    "### General Idea\n",
    "In this notebook, I will pre-process all the raw data. There will be 2 processing stages:\n",
    " - Stage 1 - General pre-processing:\n",
    "     - Resample data to [0.5,0.5,1] voxel spacing.\n",
    "     - Cut or pad x-y plane to 512x512\n",
    "     - Cutting the intensity window to [-200,600]\n",
    "     - Rescale to [0,255] values (needed for segmentation-models-3D)\n",
    "     - Remove the slices that don't have vessel segmentations.\n",
    "     - Pad (zero) in z-axis until nearest multiple of 64 (not neeeded with the new random sampler but doesnt hurt)\n",
    "     - Convert the 2 labels assigned for kidneys into just 1, and remove the extra classes.\n",
    "         - Renal cavities were converted to kidneys here\n",
    "     - After this, the classes are:\n",
    " \n",
    "        0 - background\n",
    "        1 - tumor\n",
    "        2 - veins\n",
    "        3 - arteries\n",
    "        4 - kidneys\n",
    "     - **This data will be saved as .nrrd files to folder /Andre/SAIAD_data_processed/**"
   ]
  },
  {
   "cell_type": "code",
   "execution_count": 1,
   "id": "5645b423-e2ea-42d2-aa95-c5bf8e6365db",
   "metadata": {},
   "outputs": [],
   "source": [
    "from skimage import io\n",
    "import numpy as np\n",
    "import nrrd\n",
    "import os\n",
    "import glob\n",
    "import sys\n",
    "from utils.Visualization import *\n",
    "from utils.Processing import *\n",
    "from utils.Other import *\n",
    "\n",
    "%matplotlib inline\n",
    "\n",
    "%load_ext autoreload\n",
    "%autoreload 2\n",
    "data_path = '../SAIAD-project/Data/SAIAD_data_cleared/'"
   ]
  },
  {
   "cell_type": "markdown",
   "id": "e22a3baf-4b75-4068-9183-6f1f19da85b6",
   "metadata": {},
   "source": [
    "### Reading the data, resample to voxel size and cutting/padding x-y to 512x512"
   ]
  },
  {
   "cell_type": "code",
   "execution_count": 2,
   "id": "305c43e5-4528-4fd5-9b19-a2cc837be940",
   "metadata": {
    "tags": []
   },
   "outputs": [
    {
     "name": "stdout",
     "output_type": "stream",
     "text": [
      "Patient: SAIAD 7, Shape: (512, 512, 288)\n",
      "Patient: SAIAD 9, Shape: (512, 512, 420)\n",
      "Patient: SAIAD 1, Shape: (512, 512, 221)\n",
      "Patient: SAIAD 2 Z BIS, Shape: (512, 512, 299)\n",
      "Patient: SAIAD 14, Shape: (512, 512, 318)\n",
      "Patient: SAIAD 13, Shape: (512, 512, 302)\n",
      "Patient: SAIAD 20 BIS vasculaire, Shape: (512, 512, 641)\n",
      "Patient: SAIAD 12, Shape: (512, 512, 192)\n",
      "Patient: SAIAD 15, Shape: (512, 512, 316)\n",
      "Patient: SAIAD 16 vasculaire, Shape: (512, 512, 300)\n",
      "Patient: SAIAD 5, Shape: (512, 512, 429)\n",
      "Patient: SAIAD 2, Shape: (512, 512, 402)\n",
      "Patient: SAIAD 18 vasculaire, Shape: (512, 512, 375)\n",
      "Patient: SAIAD 16 bis vasculaire, Shape: (512, 512, 274)\n",
      "Patient: SAIAD 18 TER vasculaire, Shape: (512, 512, 162)\n",
      "Patient: SAIAD 11, Shape: (512, 512, 450)\n",
      "Patient: SAIAD 19 BIS vasculaire, Shape: (512, 512, 321)\n",
      "Patient: TEST SAIAD 1, Shape: (512, 512, 221)\n",
      "Patient: SAIAD 18 BIS vasculaire, Shape: (512, 512, 250)\n",
      "Patient: SAIAD 17 BIS vasculaire, Shape: (512, 512, 272)\n",
      "Patient: SAIAD 17 vasculaire, Shape: (512, 512, 388)\n",
      "Patient: SAIAD 20 vasculaire, Shape: (512, 512, 445)\n",
      "Patient: SAIAD 15 Z Bis, Shape: (512, 512, 146)\n"
     ]
    }
   ],
   "source": [
    "voxel_spacings = [0.5, 0.5, 1]\n",
    "scans, segmentations, headers_scans, headers_segm, patient_names = read_data_and_resample(data_path, voxel_spacings, verbose=1)\n"
   ]
  },
  {
   "cell_type": "markdown",
   "id": "96231cb6-cf28-457f-9a57-d7ee2c876b52",
   "metadata": {},
   "source": [
    "### Stage 1 - General pre-processing"
   ]
  },
  {
   "cell_type": "code",
   "execution_count": 3,
   "id": "502accaf-b7cf-4a2e-b557-b193416f9abd",
   "metadata": {
    "tags": []
   },
   "outputs": [
    {
     "name": "stdout",
     "output_type": "stream",
     "text": [
      "Processing scan  SAIAD 7 , Shape: (512, 512, 128)\n",
      "Processing scan  SAIAD 9 , Shape: (512, 512, 192)\n",
      "Processing scan  SAIAD 1 , Shape: (512, 512, 128)\n",
      "Processing scan  SAIAD 2 Z BIS , Shape: (512, 512, 128)\n",
      "Processing scan  SAIAD 14 , Shape: (512, 512, 192)\n",
      "Processing scan  SAIAD 13 , Shape: (512, 512, 192)\n",
      "Processing scan  SAIAD 20 BIS vasculaire , Shape: (512, 512, 192)\n",
      "Processing scan  SAIAD 12 , Shape: (512, 512, 128)\n",
      "Processing scan  SAIAD 15 , Shape: (512, 512, 192)\n",
      "Processing scan  SAIAD 16 vasculaire , Shape: (512, 512, 128)\n",
      "Processing scan  SAIAD 5 , Shape: (512, 512, 256)\n",
      "Processing scan  SAIAD 2 , Shape: (512, 512, 128)\n",
      "Processing scan  SAIAD 18 vasculaire , Shape: (512, 512, 128)\n",
      "Processing scan  SAIAD 16 bis vasculaire , Shape: (512, 512, 192)\n",
      "Processing scan  SAIAD 18 TER vasculaire , Shape: (512, 512, 128)\n",
      "Processing scan  SAIAD 11 , Shape: (512, 512, 192)\n",
      "Processing scan  SAIAD 19 BIS vasculaire , Shape: (512, 512, 128)\n",
      "Processing scan  TEST SAIAD 1 , Shape: (512, 512, 128)\n",
      "Processing scan  SAIAD 18 BIS vasculaire , Shape: (512, 512, 128)\n",
      "Processing scan  SAIAD 17 BIS vasculaire , Shape: (512, 512, 128)\n",
      "Processing scan  SAIAD 17 vasculaire , Shape: (512, 512, 128)\n",
      "Processing scan  SAIAD 20 vasculaire , Shape: (512, 512, 128)\n",
      "Processing scan  SAIAD 15 Z Bis , Shape: (512, 512, 128)\n"
     ]
    }
   ],
   "source": [
    "scans_proc, segms_proc = process_data_saiad(scans, segmentations, patient_names, verbose=1)"
   ]
  },
  {
   "cell_type": "code",
   "execution_count": 10,
   "id": "e7295c96-6dae-49f0-a80f-55941c30f4a0",
   "metadata": {},
   "outputs": [],
   "source": [
    "# Save to .nrrd files\n",
    "\n",
    "stage1_folder = '../SAIAD-project/Data/SAIAD_data_processed_TEST/'###\n",
    "os.mkdir(stage1_folder)\n",
    "\n",
    "# Get names\n",
    "file_names = []\n",
    "for name in patient_names:\n",
    "    file_names.append(name.split(\"/\")[-1])\n",
    "    \n",
    "# Save to files\n",
    "for i in range(len(scans)):\n",
    "    \n",
    "    # Make folder\n",
    "    patient_folder = stage1_folder + file_names[i]\n",
    "    os.mkdir(patient_folder)\n",
    "    \n",
    "    # Save scans and segmentations\n",
    "    nrrd.write(patient_folder + '/scan.nrrd', scans[i], headers_scans[i])\n",
    "    nrrd.write(patient_folder + '/segm.nrrd', segmentations[i], headers_segm[i])\n",
    "\n",
    "    "
   ]
  },
  {
   "cell_type": "code",
   "execution_count": 12,
   "id": "c2b9606a-e9fd-45e9-9fda-880e9ba13a7e",
   "metadata": {},
   "outputs": [
    {
     "data": {
      "application/vnd.jupyter.widget-view+json": {
       "model_id": "d5f046c2a9194dfb9517f4dd22f4e926",
       "version_major": 2,
       "version_minor": 0
      },
      "text/plain": [
       "interactive(children=(RadioButtons(description='Slice plane selection:', options=('x-y', 'y-z', 'z-x'), style=…"
      ]
     },
     "metadata": {},
     "output_type": "display_data"
    },
    {
     "name": "stdout",
     "output_type": "stream",
     "text": [
      "OrderedDict([('type', 'uint8'), ('dimension', 3), ('space', 'left-posterior-superior'), ('sizes', array([512, 512, 128])), ('space directions', array([[0.5, 0. , 0. ],\n",
      "       [0. , 0.5, 0. ],\n",
      "       [0. , 0. , 1. ]])), ('kinds', ['domain', 'domain', 'domain']), ('encoding', 'raw'), ('space origin', array([-101.294, -180.294,  991.9  ]))])\n"
     ]
    }
   ],
   "source": [
    "# Test reading data\n",
    "pat, header = nrrd.read(patient_folder + '/scan.nrrd')\n",
    "segm, header = nrrd.read(patient_folder + '/segm.nrrd')\n",
    "ImageSliceViewer3D(pat,segm)\n",
    "print(header)"
   ]
  },
  {
   "cell_type": "code",
   "execution_count": null,
   "id": "e5d09d49",
   "metadata": {},
   "outputs": [],
   "source": []
  }
 ],
 "metadata": {
  "kernelspec": {
   "display_name": "Python 3.8.13 ('saiad')",
   "language": "python",
   "name": "python3"
  },
  "language_info": {
   "codemirror_mode": {
    "name": "ipython",
    "version": 3
   },
   "file_extension": ".py",
   "mimetype": "text/x-python",
   "name": "python",
   "nbconvert_exporter": "python",
   "pygments_lexer": "ipython3",
   "version": "3.8.13"
  },
  "vscode": {
   "interpreter": {
    "hash": "b957704aaaa8866168780c29b98d839dd06f045b85a2fdbe08e307d6377d5355"
   }
  }
 },
 "nbformat": 4,
 "nbformat_minor": 5
}
