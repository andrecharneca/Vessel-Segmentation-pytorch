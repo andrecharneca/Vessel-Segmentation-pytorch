{
 "cells": [
  {
   "cell_type": "code",
   "execution_count": 2,
   "metadata": {},
   "outputs": [],
   "source": [
    "import math\n",
    "import numpy as np\n",
    "import torch\n",
    "import pkbar\n",
    "from unet3d.config import *\n",
    "from utils.Visualization import ImageSliceViewer3D\n",
    "from tqdm import tqdm\n",
    "from torch.nn import CrossEntropyLoss\n",
    "import glob\n",
    "from torch.optim import Adam\n",
    "from unet3d.dataset import SAIADDataset\n",
    "from patchify import patchify\n",
    "import nrrd\n",
    "\n",
    "%load_ext autoreload\n",
    "%autoreload 2\n",
    "%matplotlib inline\n",
    "excl_patients = ['SAIAD 1','SAIAD 2','SAIAD 5','SAIAD 7','SAIAD 9','SAIAD 11','SAIAD 12','SAIAD 13','SAIAD 14',\n",
    "                    'SAIAD 15','SAIAD 20 vasculaire', 'SAIAD 20 BIS vasculaire', 'SAIAD 19 BIS vasculaire']\n"
   ]
  },
  {
   "cell_type": "code",
   "execution_count": 5,
   "metadata": {},
   "outputs": [
    {
     "name": "stdout",
     "output_type": "stream",
     "text": [
      "Generating patients probabilities...\n"
     ]
    }
   ],
   "source": [
    "dataset = SAIADDataset(excl_patients=excl_patients, batch_size=8, epochs=100, n_batches=10, load_data_to_memory=True)"
   ]
  },
  {
   "cell_type": "code",
   "execution_count": 17,
   "metadata": {},
   "outputs": [
    {
     "data": {
      "application/vnd.jupyter.widget-view+json": {
       "model_id": "751287ef0a824898a6f5efb613ec5e5b",
       "version_major": 2,
       "version_minor": 0
      },
      "text/plain": [
       "interactive(children=(RadioButtons(description='Slice plane selection:', options=('x-y', 'y-z', 'z-x'), style=…"
      ]
     },
     "metadata": {},
     "output_type": "display_data"
    },
    {
     "data": {
      "text/plain": [
       "<utils.Visualization.ImageSliceViewer3D at 0x2aa0748e0>"
      ]
     },
     "execution_count": 17,
     "metadata": {},
     "output_type": "execute_result"
    }
   ],
   "source": [
    "ImageSliceViewer3D(np.array(dataset.patients_probabilities[3]))"
   ]
  },
  {
   "cell_type": "code",
   "execution_count": 18,
   "metadata": {},
   "outputs": [
    {
     "data": {
      "application/vnd.jupyter.widget-view+json": {
       "model_id": "863ef7d80da54cf5b31293a6b5426972",
       "version_major": 2,
       "version_minor": 0
      },
      "text/plain": [
       "interactive(children=(RadioButtons(description='Slice plane selection:', options=('x-y', 'y-z', 'z-x'), style=…"
      ]
     },
     "metadata": {},
     "output_type": "display_data"
    },
    {
     "data": {
      "text/plain": [
       "<utils.Visualization.ImageSliceViewer3D at 0x2af7f7130>"
      ]
     },
     "execution_count": 18,
     "metadata": {},
     "output_type": "execute_result"
    }
   ],
   "source": [
    "arr = np.zeros(dataset.patients_probabilities[0].shape)\n",
    "for center in dataset.patients_centers[0]:\n",
    "    arr[center[0], center[1], center[2]]+=1\n",
    "ImageSliceViewer3D(arr)\n"
   ]
  },
  {
   "cell_type": "code",
   "execution_count": 8,
   "metadata": {},
   "outputs": [
    {
     "name": "stderr",
     "output_type": "stream",
     "text": [
      " 18%|█▊        | 18/100 [00:10<00:50,  1.64it/s][E thread_pool.cpp:113] Exception in thread pool task: mutex lock failed: Invalid argument\n",
      " 18%|█▊        | 18/100 [00:11<00:51,  1.59it/s][E thread_pool.cpp:113] Exception in thread pool task: mutex lock failed: Invalid argument\n",
      "[E thread_pool.cpp:113] Exception in thread pool task: mutex lock failed: Invalid argument\n",
      "[E thread_pool.cpp:113] Exception in thread pool task: mutex lock failed: Invalid argument\n",
      "\n"
     ]
    },
    {
     "ename": "KeyboardInterrupt",
     "evalue": "",
     "output_type": "error",
     "traceback": [
      "\u001b[0;31m---------------------------------------------------------------------------\u001b[0m",
      "\u001b[0;31mKeyboardInterrupt\u001b[0m                         Traceback (most recent call last)",
      "\u001b[1;32m/Users/charneca/Documents/CSE EPFL/Semester Project 1/Vessel-Segmentation-pytorch/dataset_test.ipynb Cell 5\u001b[0m in \u001b[0;36m<cell line: 1>\u001b[0;34m()\u001b[0m\n\u001b[1;32m      <a href='vscode-notebook-cell:/Users/charneca/Documents/CSE%20EPFL/Semester%20Project%201/Vessel-Segmentation-pytorch/dataset_test.ipynb#X12sZmlsZQ%3D%3D?line=0'>1</a>\u001b[0m \u001b[39mfor\u001b[39;00m epoch \u001b[39min\u001b[39;00m tqdm(\u001b[39mrange\u001b[39m(\u001b[39m100\u001b[39m)):\n\u001b[1;32m      <a href='vscode-notebook-cell:/Users/charneca/Documents/CSE%20EPFL/Semester%20Project%201/Vessel-Segmentation-pytorch/dataset_test.ipynb#X12sZmlsZQ%3D%3D?line=1'>2</a>\u001b[0m     \u001b[39mfor\u001b[39;00m batch \u001b[39min\u001b[39;00m \u001b[39mrange\u001b[39m(\u001b[39m10\u001b[39m):\n\u001b[0;32m----> <a href='vscode-notebook-cell:/Users/charneca/Documents/CSE%20EPFL/Semester%20Project%201/Vessel-Segmentation-pytorch/dataset_test.ipynb#X12sZmlsZQ%3D%3D?line=2'>3</a>\u001b[0m         X_batch, y_batch \u001b[39m=\u001b[39m dataset\u001b[39m.\u001b[39;49m\u001b[39m__getitem__\u001b[39;49m(batch)\n",
      "File \u001b[0;32m~/Documents/CSE EPFL/Semester Project 1/Vessel-Segmentation-pytorch/unet3d/dataset.py:203\u001b[0m, in \u001b[0;36mSAIADDataset.__getitem__\u001b[0;34m(self, idx)\u001b[0m\n\u001b[1;32m    198\u001b[0m y_batch \u001b[39m=\u001b[39m torch\u001b[39m.\u001b[39mzeros(\n\u001b[1;32m    199\u001b[0m     (\u001b[39mself\u001b[39m\u001b[39m.\u001b[39mbatch_size,) \u001b[39m+\u001b[39m \u001b[39mself\u001b[39m\u001b[39m.\u001b[39mpatch_size \u001b[39m+\u001b[39m (\u001b[39mself\u001b[39m\u001b[39m.\u001b[39mn_classes,), dtype\u001b[39m=\u001b[39mtorch\u001b[39m.\u001b[39mfloat32\n\u001b[1;32m    200\u001b[0m )\n\u001b[1;32m    202\u001b[0m \u001b[39mfor\u001b[39;00m i \u001b[39min\u001b[39;00m \u001b[39mrange\u001b[39m(\u001b[39mself\u001b[39m\u001b[39m.\u001b[39mbatch_size):\n\u001b[0;32m--> 203\u001b[0m     X_batch[i], y_batch[i] \u001b[39m=\u001b[39m \u001b[39mself\u001b[39;49m\u001b[39m.\u001b[39;49m__get_patches_from_patient(patient_indexes[i]\u001b[39m.\u001b[39;49mitem())\n\u001b[1;32m    205\u001b[0m \u001b[39mreturn\u001b[39;00m X_batch, y_batch\n",
      "File \u001b[0;32m~/Documents/CSE EPFL/Semester Project 1/Vessel-Segmentation-pytorch/unet3d/dataset.py:187\u001b[0m, in \u001b[0;36mSAIADDataset.__get_patches_from_patient\u001b[0;34m(self, i_patient)\u001b[0m\n\u001b[1;32m    184\u001b[0m patch_segm \u001b[39m=\u001b[39m np\u001b[39m.\u001b[39mpad(patch_segm,(pad_x, pad_y, pad_z), \u001b[39m'\u001b[39m\u001b[39mconstant\u001b[39m\u001b[39m'\u001b[39m, constant_values\u001b[39m=\u001b[39m\u001b[39m0\u001b[39m)\n\u001b[1;32m    186\u001b[0m patch_scan \u001b[39m=\u001b[39m torch\u001b[39m.\u001b[39mtensor(patch_scan)\n\u001b[0;32m--> 187\u001b[0m patch_segm \u001b[39m=\u001b[39m one_hot(torch\u001b[39m.\u001b[39;49mtensor(patch_segm, dtype\u001b[39m=\u001b[39;49mtorch\u001b[39m.\u001b[39;49mint64), num_classes\u001b[39m=\u001b[39;49m\u001b[39mself\u001b[39;49m\u001b[39m.\u001b[39;49mn_classes)\n\u001b[1;32m    188\u001b[0m \u001b[39mreturn\u001b[39;00m patch_scan, patch_segm\n",
      "\u001b[0;31mKeyboardInterrupt\u001b[0m: "
     ]
    }
   ],
   "source": [
    "for epoch in tqdm(range(100)):\n",
    "    for batch in range(10):\n",
    "        X_batch, y_batch = dataset.__getitem__(batch)\n"
   ]
  },
  {
   "cell_type": "code",
   "execution_count": 18,
   "metadata": {},
   "outputs": [
    {
     "data": {
      "application/vnd.jupyter.widget-view+json": {
       "model_id": "352f580f490743c9b110b0a9df1beb58",
       "version_major": 2,
       "version_minor": 0
      },
      "text/plain": [
       "interactive(children=(RadioButtons(description='Slice plane selection:', options=('x-y', 'y-z', 'z-x'), style=…"
      ]
     },
     "metadata": {},
     "output_type": "display_data"
    },
    {
     "data": {
      "text/plain": [
       "<utils.Visualization.ImageSliceViewer3D at 0x17fda6580>"
      ]
     },
     "execution_count": 18,
     "metadata": {},
     "output_type": "execute_result"
    }
   ],
   "source": [
    "n=0\n",
    "ImageSliceViewer3D(np.array(X_batch[n]), np.array(y_batch[n,:,:,:,1]))"
   ]
  },
  {
   "cell_type": "code",
   "execution_count": 10,
   "metadata": {},
   "outputs": [
    {
     "data": {
      "text/plain": [
       "torch.Size([8, 96, 96, 96, 5])"
      ]
     },
     "execution_count": 10,
     "metadata": {},
     "output_type": "execute_result"
    }
   ],
   "source": [
    "y_batch.shape"
   ]
  },
  {
   "cell_type": "code",
   "execution_count": null,
   "metadata": {},
   "outputs": [],
   "source": []
  }
 ],
 "metadata": {
  "kernelspec": {
   "display_name": "Python 3.8.13 ('saiad-pytorch')",
   "language": "python",
   "name": "python3"
  },
  "language_info": {
   "codemirror_mode": {
    "name": "ipython",
    "version": 3
   },
   "file_extension": ".py",
   "mimetype": "text/x-python",
   "name": "python",
   "nbconvert_exporter": "python",
   "pygments_lexer": "ipython3",
   "version": "3.8.13"
  },
  "orig_nbformat": 4,
  "vscode": {
   "interpreter": {
    "hash": "32aad0a8508bff835c20a8d47234734688fb62c0cbdf7488c1eae1822cd413fe"
   }
  }
 },
 "nbformat": 4,
 "nbformat_minor": 2
}
